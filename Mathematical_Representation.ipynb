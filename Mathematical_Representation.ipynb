{
 "cells": [
  {
   "cell_type": "markdown",
   "metadata": {},
   "source": [
    "Wahyu Agung Sugimartanto\n",
    "\n",
    "(wahyuagungs@gmail.com / wahyu.sugimartanto@monash.edu)"
   ]
  },
  {
   "cell_type": "markdown",
   "metadata": {},
   "source": [
    "## Import Libraries"
   ]
  },
  {
   "cell_type": "code",
   "execution_count": 1,
   "metadata": {},
   "outputs": [],
   "source": [
    "import numpy as np\n",
    "import matplotlib.pyplot as plt\n",
    "%matplotlib inline"
   ]
  },
  {
   "cell_type": "markdown",
   "metadata": {},
   "source": [
    "## Linear Regression\n",
    "### Create Dummy data\n",
    "First we need to generate 100 samples dummy data using uniform random distribution function. This data will be in range [0,1] ($runif \\in [0,1]$), we scale up the data 100x."
   ]
  },
  {
   "cell_type": "code",
   "execution_count": 2,
   "metadata": {},
   "outputs": [],
   "source": [
    "# 100 samples uniform data\n",
    "runif = np.random.uniform(size=100)\n",
    "X = runif * 100"
   ]
  },
  {
   "cell_type": "markdown",
   "metadata": {},
   "source": [
    "Next, we determine our coefficient a and b, and use linear function to create Y data. However, we also need to introduce noise in our data. These noises are generated in normally distributed scaled up 10x."
   ]
  },
  {
   "cell_type": "code",
   "execution_count": 3,
   "metadata": {},
   "outputs": [],
   "source": [
    "# a and b coefficients\n",
    "a,b = 2,3\n",
    "# generate noise data\n",
    "noise = np.random.normal(size=100) * 10\n",
    "# generate Y data\n",
    "Y = (a*X) + b + noise"
   ]
  },
  {
   "cell_type": "markdown",
   "metadata": {},
   "source": [
    "Since both X and Y data are in the form of ndArray (Numpy Array) we do not need to convert them into one. We can plot the distribution."
   ]
  },
  {
   "cell_type": "code",
   "execution_count": 4,
   "metadata": {},
   "outputs": [
    {
     "data": {
      "image/png": "[encoded data removed]",
      "text/plain": [
       "<Figure size 432x288 with 1 Axes>"
      ]
     },
     "metadata": {},
     "output_type": "display_data"
    }
   ],
   "source": [
    "# Plot the data\n",
    "plt.scatter(X, Y)\n",
    "plt.show()"
   ]
  },
  {
   "cell_type": "markdown",
   "metadata": {},
   "source": [
    "As it can be seen, the data is somewhat linear.\n",
    "### Linear Regression Formula"
   ]
  },
  {
   "cell_type": "markdown",
   "metadata": {},
   "source": [
    "\\begin{gather*}\n",
    "a=\\frac{\\sum y_{i} x_{i} \\ -\\ \\overline{y}\\sum x_{i}}{\\sum x^{2}_{i} -\\overline{x}\\sum x_{i}}\\\\\n",
    "b=\\frac{\\overline{y}\\sum x^{2}_{i} -\\overline{x}\\sum y_{i} x_{i}}{\\sum x^{2}_{i} -\\overline{x}\\sum x_{i}}\n",
    "\\end{gather*}\n",
    "Now we can make the regression with this\n",
    "\\begin{equation*}\n",
    "\\hat{y} \\ =\\ ax\\ +\\ b\n",
    "\\end{equation*}\n",
    "\n",
    "We can write the formula above as below:"
   ]
  },
  {
   "cell_type": "code",
   "execution_count": 5,
   "metadata": {},
   "outputs": [],
   "source": [
    "# compute the denominator as d\n",
    "d = np.sum(X*X) - (X.mean() * np.sum(X))\n",
    "# compute a and b coefficients\n",
    "a_reg = (np.sum(X * Y) - Y.mean()*np.sum(X))/d\n",
    "b_reg = (Y.mean() * np.sum(X * X) - X.mean() * np.sum(X * Y) )/ d"
   ]
  },
  {
   "cell_type": "markdown",
   "metadata": {},
   "source": [
    "Now, we can write our linear model as follow:"
   ]
  },
  {
   "cell_type": "code",
   "execution_count": 6,
   "metadata": {},
   "outputs": [
    {
     "name": "stdout",
     "output_type": "stream",
     "text": [
      "Y = 1.9821389180942282x + 3.058073385686195\n"
     ]
    }
   ],
   "source": [
    "print(\"Y = {0}x + {1}\".format(a_reg,b_reg))"
   ]
  },
  {
   "cell_type": "markdown",
   "metadata": {},
   "source": [
    "The last step is to fit our model line."
   ]
  },
  {
   "cell_type": "code",
   "execution_count": 7,
   "metadata": {},
   "outputs": [
    {
     "data": {
      "image/png": "[encoded data removed]",
      "text/plain": [
       "<Figure size 432x288 with 1 Axes>"
      ]
     },
     "metadata": {},
     "output_type": "display_data"
    }
   ],
   "source": [
    "# compute the y_hat\n",
    "Y_hat = Yhat = a_reg*X + b_reg\n",
    "\n",
    "# Plot the X, Y and Y_hat in one figure\n",
    "plt.scatter(X, Y)\n",
    "plt.plot(X, Y_hat)\n",
    "plt.show()\n"
   ]
  },
  {
   "cell_type": "markdown",
   "metadata": {},
   "source": [
    "## Cosine Similarity\n",
    "Cosine similarity takes form of\n",
    "\\begin{equation*}\n",
    "sim( d_{j} ,q) \\ =\\frac{\\sum ^{m}_{i=1} \\ w_{ij} q_{i}}{\\sqrt{\\sum \\ w^{2}_{ij}} \\ \\sqrt{\\sum \\ q^{2}_{i}}}\n",
    "\\end{equation*}\n",
    "First, we create 6 dummy vector data and 1 query vector. "
   ]
  },
  {
   "cell_type": "code",
   "execution_count": 8,
   "metadata": {},
   "outputs": [],
   "source": [
    "# create dummy data\n",
    "d1 = np.array([0.3,0.7,0])\n",
    "d2 = np.array([0.5,0.8,0.3])\n",
    "d3 = np.array([2.7,0.5,0.5])\n",
    "d4 = np.array([1.2,0.5,0.8])\n",
    "d5 = np.array([1.5,0.75,0.8])\n",
    "d6 = np.array([1.6,2.0,0])\n",
    "q1 = np.array([0,1,1])\n",
    "\n",
    "documents = {'d1':d1,'d2':d2,'d3':d3,'d4':d4,'d5':d5,'d6':d6}"
   ]
  },
  {
   "cell_type": "markdown",
   "metadata": {},
   "source": [
    "Next, we write a function called `cosine_sim()` to compute the degree of similarity for each document with respect to the query vector."
   ]
  },
  {
   "cell_type": "code",
   "execution_count": 9,
   "metadata": {},
   "outputs": [],
   "source": [
    "# returns a degree of similarity between a document and query vector\n",
    "def cosine_sim(w,q):\n",
    "    return w.dot(q)/ (np.sqrt(w.dot(w)) * np.sqrt(q.dot(q)))\n",
    "    "
   ]
  },
  {
   "cell_type": "markdown",
   "metadata": {},
   "source": [
    "Cosine similarity is a measure how close the document with the query; hence the higher the score the more its similarity. As a bonus, we will make a rank function to sort the result in descending order."
   ]
  },
  {
   "cell_type": "code",
   "execution_count": 10,
   "metadata": {},
   "outputs": [
    {
     "data": {
      "text/plain": [
       "[('d2', 0.7857142857142857),\n",
       " ('d1', 0.6499336836196815),\n",
       " ('d4', 0.6022133709957033),\n",
       " ('d5', 0.5898612362745811),\n",
       " ('d6', 0.5521576303742327),\n",
       " ('d3', 0.25334729596906996)]"
      ]
     },
     "execution_count": 10,
     "metadata": {},
     "output_type": "execute_result"
    }
   ],
   "source": [
    "def ranked_similarity(docs, q):\n",
    "    results = {k: cosine_sim(v,q) for k,v in docs.items()}\n",
    "    sorted_by_value = sorted(results.items(), key=lambda kv: kv[1], reverse=True)\n",
    "    return sorted_by_value\n",
    "\n",
    "ranked_similarity(documents,q1)"
   ]
  },
  {
   "cell_type": "markdown",
   "metadata": {},
   "source": [
    "## Rocchio Algorithm\n",
    "Rocchio Algorithm takes a formula as follow:\n",
    "\n",
    "\\begin{equation*}\n",
    "Q'\\ \\ =\\ \\alpha Q\\ +\\ \\beta \\ \\left(\\frac{1}{N_{rel}} \\ \\sum _{i_{1} \\ \\in \\ rel} \\ D_{i_{1}}\\right) \\ -\\gamma \\left(\\frac{1}{N_{non-rel}} \\ \\sum _{i_{2} \\in \\ non-rel} \\ D_{i_{2}}\\right)\n",
    "\\end{equation*}\n",
    "\n",
    "Next, we will write a function to depict the formula as above."
   ]
  },
  {
   "cell_type": "code",
   "execution_count": 11,
   "metadata": {},
   "outputs": [],
   "source": [
    "def rocchio(query, relevants, non_relevants,alpha=1, beta=0.5, gamma=0.25):\n",
    "    alpha_vector = (alpha * query)\n",
    "    beta_vector = (beta * np.sum(np.array([x for x in relevants]),axis=0)/len(relevants))\n",
    "    gamma_vector = (gamma * np.sum(np.array([x for x in non_relevants]),axis=0)/len(non_relevants))\n",
    "    return  alpha_vector + beta_vector - gamma_vector\n",
    "                "
   ]
  },
  {
   "cell_type": "markdown",
   "metadata": {},
   "source": [
    "Suppose from the documents above, we determine that **d2, d3, d5, and d6 are relevant** documents. While **d1 and d4 are non-relevant** documents. We can compute the new query vector."
   ]
  },
  {
   "cell_type": "code",
   "execution_count": 12,
   "metadata": {},
   "outputs": [
    {
     "name": "stdout",
     "output_type": "stream",
     "text": [
      "[0.6     1.35625 1.1    ]\n"
     ]
    }
   ],
   "source": [
    "# determine the relevant and non-relevant document lists\n",
    "rel = [d2,d3,d5,d6]\n",
    "non_rel = [d1,d4]\n",
    "\n",
    "# compute the new vector\n",
    "q_hat = rocchio(q1,rel,non_rel)\n",
    "\n",
    "# print the new vector\n",
    "print(q_hat)"
   ]
  }
 ],
 "metadata": {
  "kernelspec": {
   "display_name": "Python 3",
   "language": "python",
   "name": "python3"
  },
  "language_info": {
   "codemirror_mode": {
    "name": "ipython",
    "version": 3
   },
   "file_extension": ".py",
   "mimetype": "text/x-python",
   "name": "python",
   "nbconvert_exporter": "python",
   "pygments_lexer": "ipython3",
   "version": "3.5.2"
  }
 },
 "nbformat": 4,
 "nbformat_minor": 2
}
